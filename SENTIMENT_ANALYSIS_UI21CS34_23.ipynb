{
  "nbformat": 4,
  "nbformat_minor": 0,
  "metadata": {
    "colab": {
      "provenance": []
    },
    "kernelspec": {
      "name": "python3",
      "display_name": "Python 3"
    },
    "language_info": {
      "name": "python"
    }
  },
  "cells": [
    {
      "cell_type": "code",
      "execution_count": null,
      "metadata": {
        "id": "zBzPZNkZIjn6"
      },
      "outputs": [],
      "source": [
        "import pandas as pd\n",
        "import numpy as np"
      ]
    },
    {
      "cell_type": "code",
      "source": [
        "data = pd.read_csv('IPHONE_14.csv')"
      ],
      "metadata": {
        "id": "F6p5m6wAIpk_"
      },
      "execution_count": null,
      "outputs": []
    },
    {
      "cell_type": "code",
      "source": [
        "data.shape"
      ],
      "metadata": {
        "colab": {
          "base_uri": "https://localhost:8080/"
        },
        "id": "9nH2bQ5jIu1S",
        "outputId": "288e6169-c37d-422a-aadd-339a03b998b7"
      },
      "execution_count": null,
      "outputs": [
        {
          "output_type": "execute_result",
          "data": {
            "text/plain": [
              "(1365, 3)"
            ]
          },
          "metadata": {},
          "execution_count": 3
        }
      ]
    },
    {
      "cell_type": "code",
      "source": [
        "duplicates = data[data.duplicated()]\n",
        "print(\"Number of duplicates rows : \", duplicates.shape[0])"
      ],
      "metadata": {
        "colab": {
          "base_uri": "https://localhost:8080/"
        },
        "id": "VjI0z2NBIvcV",
        "outputId": "6fa58376-c432-4e3d-93b8-64bc92c874d4"
      },
      "execution_count": null,
      "outputs": [
        {
          "output_type": "stream",
          "name": "stdout",
          "text": [
            "Number of duplicates rows :  18\n"
          ]
        }
      ]
    },
    {
      "cell_type": "code",
      "source": [
        "data = data.drop_duplicates()"
      ],
      "metadata": {
        "id": "r4YNrFHYIxF4"
      },
      "execution_count": null,
      "outputs": []
    },
    {
      "cell_type": "code",
      "source": [
        "Missing_Values = data.isnull().sum()\n",
        "Missing = (Missing_Values / len(data))*100\n",
        "print(\"Percentage of Missing Values : \", Missing)"
      ],
      "metadata": {
        "colab": {
          "base_uri": "https://localhost:8080/"
        },
        "id": "GRg789fTI102",
        "outputId": "867eefe6-42d2-470b-c971-17d8f8905122"
      },
      "execution_count": null,
      "outputs": [
        {
          "output_type": "stream",
          "name": "stdout",
          "text": [
            "Percentage of Missing Values :  Rating      0.0\n",
            "Review      0.0\n",
            "Reviewer    0.0\n",
            "dtype: float64\n"
          ]
        }
      ]
    },
    {
      "cell_type": "code",
      "source": [
        "!pip install emoji"
      ],
      "metadata": {
        "colab": {
          "base_uri": "https://localhost:8080/"
        },
        "id": "2K6dgqN7I-Y9",
        "outputId": "fad63202-635b-45af-d2d0-1c465b79863d"
      },
      "execution_count": null,
      "outputs": [
        {
          "output_type": "stream",
          "name": "stdout",
          "text": [
            "Collecting emoji\n",
            "  Downloading emoji-2.11.0-py2.py3-none-any.whl (433 kB)\n",
            "\u001b[2K     \u001b[90m━━━━━━━━━━━━━━━━━━━━━━━━━━━━━━━━━━━━━━━━\u001b[0m \u001b[32m433.8/433.8 kB\u001b[0m \u001b[31m3.5 MB/s\u001b[0m eta \u001b[36m0:00:00\u001b[0m\n",
            "\u001b[?25hInstalling collected packages: emoji\n",
            "Successfully installed emoji-2.11.0\n"
          ]
        }
      ]
    },
    {
      "cell_type": "code",
      "source": [
        "import string\n",
        "import emoji\n",
        "import nltk\n",
        "import re\n",
        "\n",
        "from nltk.tokenize import word_tokenize\n",
        "from nltk.stem import WordNetLemmatizer\n",
        "from nltk.stem import PorterStemmer\n",
        "from nltk.corpus import stopwords\n",
        "\n",
        "nltk.download('averaged_perceptron_tagger')\n",
        "nltk.download('stopwords')\n",
        "nltk.download('wordnet')\n",
        "nltk.download('punkt')"
      ],
      "metadata": {
        "colab": {
          "base_uri": "https://localhost:8080/"
        },
        "id": "kPXzhvIAI5oW",
        "outputId": "685dc821-4e2d-4604-d387-89da18c967d4"
      },
      "execution_count": null,
      "outputs": [
        {
          "output_type": "stream",
          "name": "stderr",
          "text": [
            "[nltk_data] Downloading package averaged_perceptron_tagger to\n",
            "[nltk_data]     /root/nltk_data...\n",
            "[nltk_data]   Unzipping taggers/averaged_perceptron_tagger.zip.\n",
            "[nltk_data] Downloading package stopwords to /root/nltk_data...\n",
            "[nltk_data]   Unzipping corpora/stopwords.zip.\n",
            "[nltk_data] Downloading package wordnet to /root/nltk_data...\n",
            "[nltk_data] Downloading package punkt to /root/nltk_data...\n",
            "[nltk_data]   Unzipping tokenizers/punkt.zip.\n"
          ]
        },
        {
          "output_type": "execute_result",
          "data": {
            "text/plain": [
              "True"
            ]
          },
          "metadata": {},
          "execution_count": 8
        }
      ]
    },
    {
      "cell_type": "code",
      "source": [
        "Contraction = {\n",
        "    \"ain't\": \"is not\", \"aren't\": \"are not\",\"can't\": \"cannot\", \"'cause\": \"because\", \"could've\": \"could have\", \"couldn't\": \"could not\",\n",
        "\n",
        "    \"didn't\": \"did not\", \"doesn't\": \"does not\", \"don't\": \"do not\", \"hadn't\": \"had not\", \"hasn't\": \"has not\", \"haven't\": \"have not\",\n",
        "\n",
        "    \"he'd\": \"he would\",\"he'll\": \"he will\", \"he's\": \"he is\", \"how'd\": \"how did\", \"how'd'y\": \"how do you\", \"how'll\": \"how will\", \"how's\": \"how is\",\n",
        "\n",
        "    \"I'd\": \"I would\", \"I'd've\": \"I would have\", \"I'll\": \"I will\", \"I'll've\": \"I will have\",\"I'm\": \"I am\", \"I've\": \"I have\", \"i'd\": \"i would\",\n",
        "\n",
        "    \"i'd've\": \"i would have\", \"i'll\": \"i will\",  \"i'll've\": \"i will have\",\"i'm\": \"i am\", \"i've\": \"i have\", \"isn't\": \"is not\", \"it'd\": \"it would\",\n",
        "\n",
        "    \"it'd've\": \"it would have\", \"it'll\": \"it will\", \"it'll've\": \"it will have\",\"it's\": \"it is\", \"let's\": \"let us\", \"ma'am\": \"madam\",\n",
        "\n",
        "    \"mayn't\": \"may not\", \"might've\": \"might have\",\"mightn't\": \"might not\",\"mightn't've\": \"might not have\", \"must've\": \"must have\",\n",
        "\n",
        "    \"mustn't\": \"must not\", \"mustn't've\": \"must not have\", \"needn't\": \"need not\", \"needn't've\": \"need not have\",\"o'clock\": \"of the clock\",\n",
        "\n",
        "    \"oughtn't\": \"ought not\", \"oughtn't've\": \"ought not have\", \"shan't\": \"shall not\", \"sha'n't\": \"shall not\", \"shan't've\": \"shall not have\",\n",
        "\n",
        "    \"she'd\": \"she would\", \"she'd've\": \"she would have\", \"she'll\": \"she will\", \"she'll've\": \"she will have\", \"she's\": \"she is\",\n",
        "\n",
        "    \"should've\": \"should have\", \"shouldn't\": \"should not\", \"shouldn't've\": \"should not have\", \"so've\": \"so have\",\"so's\": \"so as\",\n",
        "\n",
        "    \"this's\": \"this is\",\"that'd\": \"that would\", \"that'd've\": \"that would have\", \"that's\": \"that is\", \"there'd\": \"there would\",\n",
        "\n",
        "    \"there'd've\": \"there would have\", \"there's\": \"there is\", \"here's\": \"here is\",\"they'd\": \"they would\", \"they'd've\": \"they would have\",\n",
        "\n",
        "    \"they'll\": \"they will\", \"they'll've\": \"they will have\", \"they're\": \"they are\", \"they've\": \"they have\", \"to've\": \"to have\",\n",
        "\n",
        "    \"wasn't\": \"was not\", \"we'd\": \"we would\", \"we'd've\": \"we would have\", \"we'll\": \"we will\", \"we'll've\": \"we will have\", \"we're\": \"we are\",\n",
        "\n",
        "    \"we've\": \"we have\", \"weren't\": \"were not\", \"what'll\": \"what will\", \"what'll've\": \"what will have\", \"what're\": \"what are\",\n",
        "\n",
        "    \"what's\": \"what is\", \"what've\": \"what have\", \"when's\": \"when is\", \"when've\": \"when have\", \"where'd\": \"where did\", \"where's\": \"where is\",\n",
        "\n",
        "    \"where've\": \"where have\", \"who'll\": \"who will\", \"who'll've\": \"who will have\", \"who's\": \"who is\", \"who've\": \"who have\",\n",
        "\n",
        "    \"why's\": \"why is\", \"why've\": \"why have\", \"will've\": \"will have\", \"won't\": \"will not\", \"won't've\": \"will not have\",\n",
        "\n",
        "    \"would've\": \"would have\", \"wouldn't\": \"would not\", \"wouldn't've\": \"would not have\", \"y'all\": \"you all\",\n",
        "\n",
        "    \"y'all'd\": \"you all would\",\"y'all'd've\": \"you all would have\",\"y'all're\": \"you all are\",\"y'all've\": \"you all have\",\n",
        "\n",
        "    \"you'd\": \"you would\", \"you'd've\": \"you would have\", \"you'll\": \"you will\", \"you'll've\": \"you will have\",\n",
        "\n",
        "    \"you're\": \"you are\", \"you've\": \"you have\"\n",
        "}"
      ],
      "metadata": {
        "id": "Y2jy4iZhI9B1"
      },
      "execution_count": null,
      "outputs": []
    },
    {
      "cell_type": "code",
      "source": [
        "StopWords = set(stopwords.words('english'))\n",
        "\n",
        "def Review_Cleaner(Review):\n",
        "    newString = Review.lower()\n",
        "\n",
        "    newString = re.sub(r'\\([^)]*\\)', '', newString)\n",
        "\n",
        "    newString = re.sub('\"','', newString)\n",
        "\n",
        "    Words = newString.split(\" \")\n",
        "    Result = []\n",
        "    for T in Words:\n",
        "        if T in Contraction:\n",
        "            Result.append(Contraction[T])\n",
        "        else:\n",
        "            Result.append(T)\n",
        "\n",
        "    newString = ' '.join(Result)\n",
        "\n",
        "    newString = re.sub(r\"'s\\b\",\"\",newString)\n",
        "\n",
        "    newString = re.sub(\"[^a-zA-Z]\", \" \", newString)\n",
        "\n",
        "    Tokens = [w for w in newString.split() if not w in StopWords]\n",
        "\n",
        "    Words = []\n",
        "    for i in Tokens:\n",
        "        if len(i) >= 3:\n",
        "            Words.append(i)\n",
        "\n",
        "    newString = (\" \".join(Words)).strip()\n",
        "\n",
        "    return newString"
      ],
      "metadata": {
        "id": "lz8iIlppJGxM"
      },
      "execution_count": null,
      "outputs": []
    },
    {
      "cell_type": "code",
      "source": [
        "Clean_Review = []\n",
        "for i in data['Review']:\n",
        "    Clean_Review.append(Review_Cleaner(i))\n",
        "\n",
        "data['Clean_Review'] = Clean_Review"
      ],
      "metadata": {
        "id": "w1MXquhbJHMW"
      },
      "execution_count": null,
      "outputs": []
    },
    {
      "cell_type": "code",
      "source": [
        "data.sample(5)"
      ],
      "metadata": {
        "colab": {
          "base_uri": "https://localhost:8080/",
          "height": 206
        },
        "id": "wvLddrCuJJOw",
        "outputId": "e54c0577-c33e-4af7-91e5-530aa542206b"
      },
      "execution_count": null,
      "outputs": [
        {
          "output_type": "execute_result",
          "data": {
            "text/plain": [
              "     Rating                                             Review  \\\n",
              "742       5                         🔥🔥🔥🔥🔥🔥🔥🔥🔥🔥 just wow.......   \n",
              "474       5  Very good phone with good features..  but I am...   \n",
              "211       5      Iphone14=camera+battery +processor with brand   \n",
              "828       5  I am using the product since quite a while now...   \n",
              "458       5                                            Awesome   \n",
              "\n",
              "           Reviewer                                       Clean_Review  \n",
              "742   Soumya Ranjan                                                wow  \n",
              "474        Vivek PB  good phone good features worried phone battery...  \n",
              "211      Jitu Bajaj              iphone camera battery processor brand  \n",
              "828   Sourabh Singh  using product since quite previously upgrade b...  \n",
              "458  Chandan  Kumar                                            awesome  "
            ],
            "text/html": [
              "\n",
              "  <div id=\"df-a0bc7488-c397-4927-957e-8e5690744d67\" class=\"colab-df-container\">\n",
              "    <div>\n",
              "<style scoped>\n",
              "    .dataframe tbody tr th:only-of-type {\n",
              "        vertical-align: middle;\n",
              "    }\n",
              "\n",
              "    .dataframe tbody tr th {\n",
              "        vertical-align: top;\n",
              "    }\n",
              "\n",
              "    .dataframe thead th {\n",
              "        text-align: right;\n",
              "    }\n",
              "</style>\n",
              "<table border=\"1\" class=\"dataframe\">\n",
              "  <thead>\n",
              "    <tr style=\"text-align: right;\">\n",
              "      <th></th>\n",
              "      <th>Rating</th>\n",
              "      <th>Review</th>\n",
              "      <th>Reviewer</th>\n",
              "      <th>Clean_Review</th>\n",
              "    </tr>\n",
              "  </thead>\n",
              "  <tbody>\n",
              "    <tr>\n",
              "      <th>742</th>\n",
              "      <td>5</td>\n",
              "      <td>🔥🔥🔥🔥🔥🔥🔥🔥🔥🔥 just wow.......</td>\n",
              "      <td>Soumya Ranjan</td>\n",
              "      <td>wow</td>\n",
              "    </tr>\n",
              "    <tr>\n",
              "      <th>474</th>\n",
              "      <td>5</td>\n",
              "      <td>Very good phone with good features..  but I am...</td>\n",
              "      <td>Vivek PB</td>\n",
              "      <td>good phone good features worried phone battery...</td>\n",
              "    </tr>\n",
              "    <tr>\n",
              "      <th>211</th>\n",
              "      <td>5</td>\n",
              "      <td>Iphone14=camera+battery +processor with brand</td>\n",
              "      <td>Jitu Bajaj</td>\n",
              "      <td>iphone camera battery processor brand</td>\n",
              "    </tr>\n",
              "    <tr>\n",
              "      <th>828</th>\n",
              "      <td>5</td>\n",
              "      <td>I am using the product since quite a while now...</td>\n",
              "      <td>Sourabh Singh</td>\n",
              "      <td>using product since quite previously upgrade b...</td>\n",
              "    </tr>\n",
              "    <tr>\n",
              "      <th>458</th>\n",
              "      <td>5</td>\n",
              "      <td>Awesome</td>\n",
              "      <td>Chandan  Kumar</td>\n",
              "      <td>awesome</td>\n",
              "    </tr>\n",
              "  </tbody>\n",
              "</table>\n",
              "</div>\n",
              "    <div class=\"colab-df-buttons\">\n",
              "\n",
              "  <div class=\"colab-df-container\">\n",
              "    <button class=\"colab-df-convert\" onclick=\"convertToInteractive('df-a0bc7488-c397-4927-957e-8e5690744d67')\"\n",
              "            title=\"Convert this dataframe to an interactive table.\"\n",
              "            style=\"display:none;\">\n",
              "\n",
              "  <svg xmlns=\"http://www.w3.org/2000/svg\" height=\"24px\" viewBox=\"0 -960 960 960\">\n",
              "    <path d=\"M120-120v-720h720v720H120Zm60-500h600v-160H180v160Zm220 220h160v-160H400v160Zm0 220h160v-160H400v160ZM180-400h160v-160H180v160Zm440 0h160v-160H620v160ZM180-180h160v-160H180v160Zm440 0h160v-160H620v160Z\"/>\n",
              "  </svg>\n",
              "    </button>\n",
              "\n",
              "  <style>\n",
              "    .colab-df-container {\n",
              "      display:flex;\n",
              "      gap: 12px;\n",
              "    }\n",
              "\n",
              "    .colab-df-convert {\n",
              "      background-color: #E8F0FE;\n",
              "      border: none;\n",
              "      border-radius: 50%;\n",
              "      cursor: pointer;\n",
              "      display: none;\n",
              "      fill: #1967D2;\n",
              "      height: 32px;\n",
              "      padding: 0 0 0 0;\n",
              "      width: 32px;\n",
              "    }\n",
              "\n",
              "    .colab-df-convert:hover {\n",
              "      background-color: #E2EBFA;\n",
              "      box-shadow: 0px 1px 2px rgba(60, 64, 67, 0.3), 0px 1px 3px 1px rgba(60, 64, 67, 0.15);\n",
              "      fill: #174EA6;\n",
              "    }\n",
              "\n",
              "    .colab-df-buttons div {\n",
              "      margin-bottom: 4px;\n",
              "    }\n",
              "\n",
              "    [theme=dark] .colab-df-convert {\n",
              "      background-color: #3B4455;\n",
              "      fill: #D2E3FC;\n",
              "    }\n",
              "\n",
              "    [theme=dark] .colab-df-convert:hover {\n",
              "      background-color: #434B5C;\n",
              "      box-shadow: 0px 1px 3px 1px rgba(0, 0, 0, 0.15);\n",
              "      filter: drop-shadow(0px 1px 2px rgba(0, 0, 0, 0.3));\n",
              "      fill: #FFFFFF;\n",
              "    }\n",
              "  </style>\n",
              "\n",
              "    <script>\n",
              "      const buttonEl =\n",
              "        document.querySelector('#df-a0bc7488-c397-4927-957e-8e5690744d67 button.colab-df-convert');\n",
              "      buttonEl.style.display =\n",
              "        google.colab.kernel.accessAllowed ? 'block' : 'none';\n",
              "\n",
              "      async function convertToInteractive(key) {\n",
              "        const element = document.querySelector('#df-a0bc7488-c397-4927-957e-8e5690744d67');\n",
              "        const dataTable =\n",
              "          await google.colab.kernel.invokeFunction('convertToInteractive',\n",
              "                                                    [key], {});\n",
              "        if (!dataTable) return;\n",
              "\n",
              "        const docLinkHtml = 'Like what you see? Visit the ' +\n",
              "          '<a target=\"_blank\" href=https://colab.research.google.com/notebooks/data_table.ipynb>data table notebook</a>'\n",
              "          + ' to learn more about interactive tables.';\n",
              "        element.innerHTML = '';\n",
              "        dataTable['output_type'] = 'display_data';\n",
              "        await google.colab.output.renderOutput(dataTable, element);\n",
              "        const docLink = document.createElement('div');\n",
              "        docLink.innerHTML = docLinkHtml;\n",
              "        element.appendChild(docLink);\n",
              "      }\n",
              "    </script>\n",
              "  </div>\n",
              "\n",
              "\n",
              "<div id=\"df-9ef75b52-1328-4fcf-b4c4-6f8fd18b4794\">\n",
              "  <button class=\"colab-df-quickchart\" onclick=\"quickchart('df-9ef75b52-1328-4fcf-b4c4-6f8fd18b4794')\"\n",
              "            title=\"Suggest charts\"\n",
              "            style=\"display:none;\">\n",
              "\n",
              "<svg xmlns=\"http://www.w3.org/2000/svg\" height=\"24px\"viewBox=\"0 0 24 24\"\n",
              "     width=\"24px\">\n",
              "    <g>\n",
              "        <path d=\"M19 3H5c-1.1 0-2 .9-2 2v14c0 1.1.9 2 2 2h14c1.1 0 2-.9 2-2V5c0-1.1-.9-2-2-2zM9 17H7v-7h2v7zm4 0h-2V7h2v10zm4 0h-2v-4h2v4z\"/>\n",
              "    </g>\n",
              "</svg>\n",
              "  </button>\n",
              "\n",
              "<style>\n",
              "  .colab-df-quickchart {\n",
              "      --bg-color: #E8F0FE;\n",
              "      --fill-color: #1967D2;\n",
              "      --hover-bg-color: #E2EBFA;\n",
              "      --hover-fill-color: #174EA6;\n",
              "      --disabled-fill-color: #AAA;\n",
              "      --disabled-bg-color: #DDD;\n",
              "  }\n",
              "\n",
              "  [theme=dark] .colab-df-quickchart {\n",
              "      --bg-color: #3B4455;\n",
              "      --fill-color: #D2E3FC;\n",
              "      --hover-bg-color: #434B5C;\n",
              "      --hover-fill-color: #FFFFFF;\n",
              "      --disabled-bg-color: #3B4455;\n",
              "      --disabled-fill-color: #666;\n",
              "  }\n",
              "\n",
              "  .colab-df-quickchart {\n",
              "    background-color: var(--bg-color);\n",
              "    border: none;\n",
              "    border-radius: 50%;\n",
              "    cursor: pointer;\n",
              "    display: none;\n",
              "    fill: var(--fill-color);\n",
              "    height: 32px;\n",
              "    padding: 0;\n",
              "    width: 32px;\n",
              "  }\n",
              "\n",
              "  .colab-df-quickchart:hover {\n",
              "    background-color: var(--hover-bg-color);\n",
              "    box-shadow: 0 1px 2px rgba(60, 64, 67, 0.3), 0 1px 3px 1px rgba(60, 64, 67, 0.15);\n",
              "    fill: var(--button-hover-fill-color);\n",
              "  }\n",
              "\n",
              "  .colab-df-quickchart-complete:disabled,\n",
              "  .colab-df-quickchart-complete:disabled:hover {\n",
              "    background-color: var(--disabled-bg-color);\n",
              "    fill: var(--disabled-fill-color);\n",
              "    box-shadow: none;\n",
              "  }\n",
              "\n",
              "  .colab-df-spinner {\n",
              "    border: 2px solid var(--fill-color);\n",
              "    border-color: transparent;\n",
              "    border-bottom-color: var(--fill-color);\n",
              "    animation:\n",
              "      spin 1s steps(1) infinite;\n",
              "  }\n",
              "\n",
              "  @keyframes spin {\n",
              "    0% {\n",
              "      border-color: transparent;\n",
              "      border-bottom-color: var(--fill-color);\n",
              "      border-left-color: var(--fill-color);\n",
              "    }\n",
              "    20% {\n",
              "      border-color: transparent;\n",
              "      border-left-color: var(--fill-color);\n",
              "      border-top-color: var(--fill-color);\n",
              "    }\n",
              "    30% {\n",
              "      border-color: transparent;\n",
              "      border-left-color: var(--fill-color);\n",
              "      border-top-color: var(--fill-color);\n",
              "      border-right-color: var(--fill-color);\n",
              "    }\n",
              "    40% {\n",
              "      border-color: transparent;\n",
              "      border-right-color: var(--fill-color);\n",
              "      border-top-color: var(--fill-color);\n",
              "    }\n",
              "    60% {\n",
              "      border-color: transparent;\n",
              "      border-right-color: var(--fill-color);\n",
              "    }\n",
              "    80% {\n",
              "      border-color: transparent;\n",
              "      border-right-color: var(--fill-color);\n",
              "      border-bottom-color: var(--fill-color);\n",
              "    }\n",
              "    90% {\n",
              "      border-color: transparent;\n",
              "      border-bottom-color: var(--fill-color);\n",
              "    }\n",
              "  }\n",
              "</style>\n",
              "\n",
              "  <script>\n",
              "    async function quickchart(key) {\n",
              "      const quickchartButtonEl =\n",
              "        document.querySelector('#' + key + ' button');\n",
              "      quickchartButtonEl.disabled = true;  // To prevent multiple clicks.\n",
              "      quickchartButtonEl.classList.add('colab-df-spinner');\n",
              "      try {\n",
              "        const charts = await google.colab.kernel.invokeFunction(\n",
              "            'suggestCharts', [key], {});\n",
              "      } catch (error) {\n",
              "        console.error('Error during call to suggestCharts:', error);\n",
              "      }\n",
              "      quickchartButtonEl.classList.remove('colab-df-spinner');\n",
              "      quickchartButtonEl.classList.add('colab-df-quickchart-complete');\n",
              "    }\n",
              "    (() => {\n",
              "      let quickchartButtonEl =\n",
              "        document.querySelector('#df-9ef75b52-1328-4fcf-b4c4-6f8fd18b4794 button');\n",
              "      quickchartButtonEl.style.display =\n",
              "        google.colab.kernel.accessAllowed ? 'block' : 'none';\n",
              "    })();\n",
              "  </script>\n",
              "</div>\n",
              "    </div>\n",
              "  </div>\n"
            ],
            "application/vnd.google.colaboratory.intrinsic+json": {
              "type": "dataframe",
              "summary": "{\n  \"name\": \"data\",\n  \"rows\": 5,\n  \"fields\": [\n    {\n      \"column\": \"Rating\",\n      \"properties\": {\n        \"dtype\": \"number\",\n        \"std\": 0,\n        \"min\": 5,\n        \"max\": 5,\n        \"num_unique_values\": 1,\n        \"samples\": [\n          5\n        ],\n        \"semantic_type\": \"\",\n        \"description\": \"\"\n      }\n    },\n    {\n      \"column\": \"Review\",\n      \"properties\": {\n        \"dtype\": \"string\",\n        \"num_unique_values\": 5,\n        \"samples\": [\n          \"Very good phone with good features..  but I am worried about my phone battery. With in a month the battery health came to 99%\"\n        ],\n        \"semantic_type\": \"\",\n        \"description\": \"\"\n      }\n    },\n    {\n      \"column\": \"Reviewer\",\n      \"properties\": {\n        \"dtype\": \"string\",\n        \"num_unique_values\": 5,\n        \"samples\": [\n          \"Vivek PB\"\n        ],\n        \"semantic_type\": \"\",\n        \"description\": \"\"\n      }\n    },\n    {\n      \"column\": \"Clean_Review\",\n      \"properties\": {\n        \"dtype\": \"string\",\n        \"num_unique_values\": 5,\n        \"samples\": [\n          \"good phone good features worried phone battery month battery health came\"\n        ],\n        \"semantic_type\": \"\",\n        \"description\": \"\"\n      }\n    }\n  ]\n}"
            }
          },
          "metadata": {},
          "execution_count": 12
        }
      ]
    },
    {
      "cell_type": "code",
      "source": [
        "reviews_df = pd.DataFrame({\n",
        "    'Review': data['Clean_Review']\n",
        "})"
      ],
      "metadata": {
        "id": "LgJqTG8pJSrp"
      },
      "execution_count": null,
      "outputs": []
    },
    {
      "cell_type": "code",
      "source": [
        "import pandas as pd\n",
        "from nltk.tokenize import word_tokenize\n",
        "from nltk import pos_tag\n",
        "from collections import Counter\n",
        "\n",
        "# Sample DataFrame of reviews\n",
        "# data = {\n",
        "#     'review': [\n",
        "#         \"The battery life of this laptop is excellent, but the screen resolution could be better.\",\n",
        "#         \"The sound quality of these headphones is amazing, but they are not very comfortable to wear for long periods.\",\n",
        "#         \"This vacuum cleaner is lightweight and easy to maneuver, but the suction power could be stronger.\",\n",
        "#         \"The camera on this smartphone takes stunning photos, but the battery drains quickly when using certain apps.\",\n",
        "#         \"The build quality of this tablet feels premium, but the software can be a bit slow at times.\"\n",
        "#     ]\n",
        "# }\n",
        "\n",
        "df = pd.DataFrame(reviews_df)\n",
        "\n",
        "def extract_dynamic_features_from_df(df):\n",
        "    reviews = df['Review'].tolist()\n",
        "    tokens = [word_tokenize(review) for review in reviews]\n",
        "    pos_tags = [pos_tag(token) for token in tokens]\n",
        "\n",
        "    noun_phrases = Counter()\n",
        "    for pos_tagged_tokens in pos_tags:\n",
        "        for i in range(len(pos_tagged_tokens) - 1):\n",
        "            if pos_tagged_tokens[i][1] in ('NN', 'NNS') and pos_tagged_tokens[i + 1][1] in ('NN', 'NNS'):\n",
        "                noun_phrase = pos_tagged_tokens[i][0] + ' ' + pos_tagged_tokens[i + 1][0]\n",
        "                noun_phrases[noun_phrase] += 1\n",
        "            elif pos_tagged_tokens[i][1] in ('NN', 'NNS'):\n",
        "                noun_phrases[pos_tagged_tokens[i][0]] += 1\n",
        "\n",
        "    most_common = noun_phrases.most_common(10)\n",
        "    dynamic_features = [feature[0] for feature in most_common]\n",
        "\n",
        "    return dynamic_features\n",
        "\n",
        "dynamic_features_df = extract_dynamic_features_from_df(df)\n",
        "\n",
        "print(\"Dynamic Features from DataFrame:\", dynamic_features_df)"
      ],
      "metadata": {
        "colab": {
          "base_uri": "https://localhost:8080/"
        },
        "id": "Z5wiDB14JZRx",
        "outputId": "6a9dd83a-0602-4466-8321-b08b0cd3f610"
      },
      "execution_count": null,
      "outputs": [
        {
          "output_type": "stream",
          "name": "stdout",
          "text": [
            "Dynamic Features from DataFrame: ['phone', 'iphone', 'camera', 'product', 'performance', 'quality', 'battery', 'camera quality', 'display', 'apple']\n"
          ]
        }
      ]
    },
    {
      "cell_type": "code",
      "source": [
        "from textblob import TextBlob\n",
        "import pandas as pd\n",
        "\n",
        "def aspect_sentiment_analysis(review, aspect, threshold=0.1):\n",
        "    blob = TextBlob(review)\n",
        "    aspect_lower = aspect.lower()\n",
        "    aspect_sentiments = []\n",
        "\n",
        "    for sentence in blob.sentences:\n",
        "        if aspect_lower in sentence.lower():\n",
        "            aspect_sentiments.append(sentence.sentiment.polarity)\n",
        "\n",
        "    if aspect_sentiments:\n",
        "        avg_polarity = sum(aspect_sentiments) / len(aspect_sentiments)\n",
        "        if avg_polarity < threshold:\n",
        "            return 'negative'\n",
        "        else:\n",
        "            return 'positive'\n",
        "    return 'not mentioned'\n",
        "\n",
        "sentiment_data = {feature: [] for feature in dynamic_features_df}\n",
        "\n",
        "for review in reviews_df['Review']:\n",
        "    for feature in dynamic_features_df:\n",
        "        sentiment = aspect_sentiment_analysis(review, feature)\n",
        "        sentiment_data[feature].append(sentiment)\n",
        "\n",
        "sentiment_df = pd.DataFrame(sentiment_data)\n",
        "result_df = pd.concat([reviews_df, sentiment_df], axis=1)\n",
        "\n",
        "positive_counts = result_df[result_df == 'positive'].count()\n",
        "negative_counts = result_df[result_df == 'negative'].count()\n",
        "\n",
        "result_df.loc['positive_count'] = positive_counts\n",
        "result_df.loc['negative_count'] = negative_counts\n",
        "\n",
        "total_counts = positive_counts + negative_counts\n",
        "positive_percentages = (positive_counts / total_counts) * 100\n",
        "\n",
        "scaled_positive_rating = round((positive_percentages / 100) * 5, 2)\n",
        "\n",
        "result_df.loc['Rating'] = scaled_positive_rating\n",
        "print(result_df)"
      ],
      "metadata": {
        "colab": {
          "base_uri": "https://localhost:8080/"
        },
        "id": "ttuBRpCdJnrL",
        "outputId": "6a6bccd2-ab4d-48e0-dd69-9a9bb9ddecb5"
      },
      "execution_count": null,
      "outputs": [
        {
          "output_type": "stream",
          "name": "stdout",
          "text": [
            "                                                           Review  \\\n",
            "0               best smart phone price range compare phones se...   \n",
            "1               nice camera battery drain fast specially video...   \n",
            "2                                                       nice fast   \n",
            "3                                                            good   \n",
            "4               damn great phone camera really good battery la...   \n",
            "...                                                           ...   \n",
            "1231                                                          NaN   \n",
            "1257                                                          NaN   \n",
            "positive_count                                                  0   \n",
            "negative_count                                                  0   \n",
            "Rating                                                        NaN   \n",
            "\n",
            "                        phone         iphone         camera        product  \\\n",
            "0                    positive       positive       positive  not mentioned   \n",
            "1               not mentioned  not mentioned       positive  not mentioned   \n",
            "2               not mentioned  not mentioned  not mentioned  not mentioned   \n",
            "3               not mentioned  not mentioned  not mentioned  not mentioned   \n",
            "4                    positive       positive       positive  not mentioned   \n",
            "...                       ...            ...            ...            ...   \n",
            "1231                 positive  not mentioned  not mentioned  not mentioned   \n",
            "1257            not mentioned  not mentioned  not mentioned  not mentioned   \n",
            "positive_count            400            185            236            188   \n",
            "negative_count             52             23             28             12   \n",
            "Rating                   4.42           4.45           4.47            4.7   \n",
            "\n",
            "                  performance        quality        battery camera quality  \\\n",
            "0                    positive       positive  not mentioned  not mentioned   \n",
            "1               not mentioned  not mentioned       positive  not mentioned   \n",
            "2               not mentioned  not mentioned  not mentioned  not mentioned   \n",
            "3               not mentioned  not mentioned  not mentioned  not mentioned   \n",
            "4               not mentioned  not mentioned       positive  not mentioned   \n",
            "...                       ...            ...            ...            ...   \n",
            "1231            not mentioned  not mentioned  not mentioned  not mentioned   \n",
            "1257            not mentioned       positive  not mentioned  not mentioned   \n",
            "positive_count            129            123            157             54   \n",
            "negative_count             18             10             24              4   \n",
            "Rating                   4.39           4.62           4.34           4.66   \n",
            "\n",
            "                      display          apple  \n",
            "0               not mentioned  not mentioned  \n",
            "1               not mentioned  not mentioned  \n",
            "2               not mentioned  not mentioned  \n",
            "3               not mentioned  not mentioned  \n",
            "4                    positive       positive  \n",
            "...                       ...            ...  \n",
            "1231            not mentioned  not mentioned  \n",
            "1257            not mentioned  not mentioned  \n",
            "positive_count             70             61  \n",
            "negative_count              5             13  \n",
            "Rating                   4.67           4.12  \n",
            "\n",
            "[1367 rows x 11 columns]\n"
          ]
        }
      ]
    },
    {
      "cell_type": "code",
      "source": [
        "feature_ratings = result_df.loc['Rating']\n",
        "feature_ratings = feature_ratings.drop('Review')\n",
        "feature_ratings"
      ],
      "metadata": {
        "colab": {
          "base_uri": "https://localhost:8080/"
        },
        "id": "F7wM1cxMKeli",
        "outputId": "071412c8-48af-483d-cac5-2460c58c9039"
      },
      "execution_count": null,
      "outputs": [
        {
          "output_type": "execute_result",
          "data": {
            "text/plain": [
              "phone             4.42\n",
              "iphone            4.45\n",
              "camera            4.47\n",
              "product            4.7\n",
              "performance       4.39\n",
              "quality           4.62\n",
              "battery           4.34\n",
              "camera quality    4.66\n",
              "display           4.67\n",
              "apple             4.12\n",
              "Name: Rating, dtype: object"
            ]
          },
          "metadata": {},
          "execution_count": 16
        }
      ]
    },
    {
      "cell_type": "code",
      "source": [],
      "metadata": {
        "id": "H1RlsTJgK_zE"
      },
      "execution_count": null,
      "outputs": []
    }
  ]
}